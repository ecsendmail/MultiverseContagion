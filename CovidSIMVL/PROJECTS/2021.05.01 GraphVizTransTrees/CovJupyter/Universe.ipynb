{
 "cells": [
  {
   "cell_type": "markdown",
   "id": "fourth-exclusion",
   "metadata": {},
   "source": [
    "# Step one:\n",
    "    1. Loading Required Packages\n",
    "    2. Reading the transmission.csv file\n",
    "    3. Adding all nodes to the graph \"gra\" (lines 15,16,17)\n",
    "# Step two: \n",
    "    1. Add edge to the gra and save each of them into the file\n",
    "  \n",
    "# Step three: \n",
    "    1. Collect them all together and create the .avi file"
   ]
  },
  {
   "cell_type": "code",
   "execution_count": 5,
   "id": "interim-finish",
   "metadata": {},
   "outputs": [
    {
     "name": "stdout",
     "output_type": "stream",
     "text": [
      "CPU times: user 3 µs, sys: 1e+03 ns, total: 4 µs\n",
      "Wall time: 8.11 µs\n"
     ]
    }
   ],
   "source": [
    "%time\n",
    "import pandas as pd\n",
    "import numpy as np\n",
    "import sys\n",
    "import pydot\n",
    "from graphviz import Digraph\n",
    "data = pd.read_csv('transmission.csv')\n",
    "idx,idy = data.shape\n",
    "# ## Create the first intial graph with all the nodes and no edges\n",
    "gra = Digraph(strict=True)\n",
    "e = []\n",
    "i=0\n",
    "while(i < idx):\n",
    "    source = data['infecor'][i]\n",
    "    source_name = \"A\"+str(source)\n",
    "    target = data['infecting'][i]\n",
    "    target_name = \"A\"+str(target)\n",
    "    gen = data['gen'][i]\n",
    "    gra.node(source_name,color='grey',style='filled')\n",
    "    gra.node(target_name,color='grey',style='filled')\n",
    "    gra.edge(source_name, target_name,color='gray', label=str(gen))\n",
    "    i +=1\n",
    "# # add each edge at a time and save it into memory\n",
    "import graphviz\n",
    "from subprocess import check_call\n",
    "i=0\n",
    "gen_curr = 0\n",
    "png_idx = 0\n",
    "nodes = []\n",
    "while(i < idx):\n",
    "    source = data['infecor'][i]\n",
    "    source_name = \"A\"+str(source)\n",
    "    target = data['infecting'][i]\n",
    "    target_name = \"A\"+str(target)\n",
    "    gen = data['gen'][i]\n",
    "    if (gen==gen_curr):\n",
    "        nodes.append(source_name)\n",
    "        nodes.append(target_name)\n",
    "        gra.node(source_name,color='red',style='filled')\n",
    "        gra.node(target_name,color='red',style='filled')\n",
    "        gra.edge(source_name, target_name,color='red',label=str(gen))\n",
    "#         gra.edge(str(source), str(target),color='white')\n",
    "        i +=1\n",
    "    if (gen!=gen_curr):\n",
    "        gen_curr = gen\n",
    "        path = \"temp/\" + str(png_idx) + \".dot\"\n",
    "        png_idx = png_idx + 1\n",
    "        gra.render(filename=path)\n",
    "        output = path + \".png\"\n",
    "        check_call(['dot','-Tpng','-Gsize=69,250\\!','-Gdpi=100', path,'-o',output])\n",
    "        for _node in nodes:\n",
    "            gra.node(str(_node),color='yellow')\n",
    "        nodes=[]\n",
    "\n",
    "path = \"temp/\" + str(png_idx) + \".dot\"\n",
    "png_idx = png_idx + 1\n",
    "gra.render(filename=path)\n",
    "output = path + \".png\"\n",
    "check_call(['dot','-Tpng', '-Gsize=69,250\\!','-Gdpi=100',path,'-o',output])\n",
    "# # Put them all together and create the avi file\n",
    "\n",
    "import cv2\n",
    "import numpy as np\n",
    "import glob\n",
    "\n",
    "img_array = []\n",
    "imgs = glob.glob(\"temp/*.png\")\n",
    "path = \"temp/\"\n",
    "for i in range(0,png_idx):\n",
    "    input1 = path+str(i) +\".dot\" + \".png\"\n",
    "    img = cv2.imread(input1)\n",
    "    if (i==0): \n",
    "        height, width, layers = img.shape\n",
    "    resized = cv2.resize(img,(width,height) , interpolation = cv2.INTER_AREA)    \n",
    "    size = (width,height)\n",
    "    img_array.append(resized)\n",
    "out = cv2.VideoWriter('project.avi',cv2.VideoWriter_fourcc(*'DIVX'), 1, size)\n",
    "for i in range(len(img_array)):\n",
    "    out.write(img_array[i])\n",
    "out.release()"
   ]
  },
  {
   "cell_type": "code",
   "execution_count": 4,
   "id": "light-monaco",
   "metadata": {},
   "outputs": [
    {
     "name": "stdout",
     "output_type": "stream",
     "text": [
      "559\n"
     ]
    }
   ],
   "source": [
    "print(png_idx)"
   ]
  }
 ],
 "metadata": {
  "kernelspec": {
   "display_name": "Python 3",
   "language": "python",
   "name": "python3"
  },
  "language_info": {
   "codemirror_mode": {
    "name": "ipython",
    "version": 3
   },
   "file_extension": ".py",
   "mimetype": "text/x-python",
   "name": "python",
   "nbconvert_exporter": "python",
   "pygments_lexer": "ipython3",
   "version": "3.9.2"
  }
 },
 "nbformat": 4,
 "nbformat_minor": 5
}

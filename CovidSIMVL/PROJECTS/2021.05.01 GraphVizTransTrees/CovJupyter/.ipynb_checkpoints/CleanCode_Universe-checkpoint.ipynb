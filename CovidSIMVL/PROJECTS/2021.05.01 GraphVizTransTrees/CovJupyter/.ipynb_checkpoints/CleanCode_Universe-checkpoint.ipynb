{
 "cells": [
  {
   "cell_type": "markdown",
   "id": "parallel-future",
   "metadata": {},
   "source": [
    "# Loading Required Packages\n"
   ]
  },
  {
   "cell_type": "code",
   "execution_count": 6,
   "id": "adjustable-combine",
   "metadata": {},
   "outputs": [],
   "source": [
    "import pandas as pd\n",
    "import numpy as np\n",
    "import sys\n",
    "import pydot\n",
    "from graphviz import Digraph"
   ]
  },
  {
   "cell_type": "code",
   "execution_count": 7,
   "id": "hollywood-kingston",
   "metadata": {},
   "outputs": [
    {
     "name": "stdout",
     "output_type": "stream",
     "text": [
      "13\n"
     ]
    }
   ],
   "source": [
    "data = pd.read_csv('transmission.csv')\n",
    "idx,idy = data.shape\n",
    "num_of_times = int((data['gen'].max() - data['gen'].min()) / 10)\n",
    "print(data['gen'][0])"
   ]
  },
  {
   "cell_type": "markdown",
   "id": "about-guinea",
   "metadata": {},
   "source": [
    "## Create the first intial graph with all the nodes and no edges"
   ]
  },
  {
   "cell_type": "code",
   "execution_count": 8,
   "id": "comparative-retail",
   "metadata": {},
   "outputs": [
    {
     "data": {
      "text/plain": [
       "'temp1\\\\initial_200.dot.pdf'"
      ]
     },
     "execution_count": 8,
     "metadata": {},
     "output_type": "execute_result"
    }
   ],
   "source": [
    "from graphviz import Digraph\n",
    "gra = Digraph()\n",
    "e = []\n",
    "i=0\n",
    "while(i < idx):\n",
    "    source = data['infecor'][i]\n",
    "    target = data['infecting'][i]\n",
    "    gra.node(str(source),color='grey',style='filled')\n",
    "    gra.node(str(target),color='grey',style='filled')\n",
    "    gra.edge(str(source), str(target),color='white')\n",
    "    i +=1\n",
    "    if (i > 100):\n",
    "        break\n",
    "gra.render(filename='temp1/initial_200.dot')\n"
   ]
  },
  {
   "cell_type": "markdown",
   "id": "mysterious-better",
   "metadata": {},
   "source": [
    "# add each edge at a time and save it into memory"
   ]
  },
  {
   "cell_type": "markdown",
   "id": "8a215052",
   "metadata": {},
   "source": [
    "##### import graphviz\n",
    "from subprocess import check_call\n",
    "i=0\n",
    "gen_curr = 0\n",
    "png_idx = 0\n",
    "nodes = []\n",
    "while(i <= 201):\n",
    "    source = data['infecor'][i]\n",
    "    target = data['infecting'][i]\n",
    "    gen = data['gen'][i]\n",
    "    if (i >=101):\n",
    "        break\n",
    "    if (gen==gen_curr):\n",
    "        nodes.append(source)\n",
    "        nodes.append(target)\n",
    "        gra.node(str(source),color='red',style='filled')\n",
    "        gra.node(str(target),color='red',style='filled')\n",
    "        gra.edge(str(source), str(target),color='red',label=str(gen))\n",
    "        gra.edge(str(source), str(target),color='white')\n",
    "        i +=1\n",
    "    if (gen!=gen_curr):\n",
    "        gen_curr = gen\n",
    "        path = \"temp1/\" + str(png_idx) + \".dot\"\n",
    "        png_idx = png_idx + 1\n",
    "        gra.render(filename=path)\n",
    "        output = path + \".png\"\n",
    "        check_call(['dot','-Tpng',path,'-o',output])\n",
    "        for _node in nodes:\n",
    "            gra.node(str(_node),color='yellow')\n",
    "        nodes=[]"
   ]
  },
  {
   "cell_type": "markdown",
   "id": "central-danish",
   "metadata": {},
   "source": [
    "# Put them all together and create the avi file"
   ]
  },
  {
   "cell_type": "code",
   "execution_count": 9,
   "id": "robust-bunny",
   "metadata": {},
   "outputs": [
    {
     "ename": "error",
     "evalue": "OpenCV(4.5.1) C:\\Users\\appveyor\\AppData\\Local\\Temp\\1\\pip-req-build-wvn_it83\\opencv\\modules\\imgproc\\src\\resize.cpp:4051: error: (-215:Assertion failed) !ssize.empty() in function 'cv::resize'\n",
     "output_type": "error",
     "traceback": [
      "\u001b[1;31m---------------------------------------------------------------------------\u001b[0m",
      "\u001b[1;31merror\u001b[0m                                     Traceback (most recent call last)",
      "\u001b[1;32m<ipython-input-9-df468efbc228>\u001b[0m in \u001b[0;36m<module>\u001b[1;34m\u001b[0m\n\u001b[0;32m     11\u001b[0m     \u001b[1;32mif\u001b[0m \u001b[1;33m(\u001b[0m\u001b[0mi\u001b[0m\u001b[1;33m==\u001b[0m\u001b[1;36m0\u001b[0m\u001b[1;33m)\u001b[0m\u001b[1;33m:\u001b[0m\u001b[1;33m\u001b[0m\u001b[1;33m\u001b[0m\u001b[0m\n\u001b[0;32m     12\u001b[0m         \u001b[0mheight\u001b[0m\u001b[1;33m,\u001b[0m \u001b[0mwidth\u001b[0m\u001b[1;33m,\u001b[0m \u001b[0mlayers\u001b[0m \u001b[1;33m=\u001b[0m \u001b[0mimg\u001b[0m\u001b[1;33m.\u001b[0m\u001b[0mshape\u001b[0m\u001b[1;33m\u001b[0m\u001b[1;33m\u001b[0m\u001b[0m\n\u001b[1;32m---> 13\u001b[1;33m     \u001b[0mresized\u001b[0m \u001b[1;33m=\u001b[0m \u001b[0mcv2\u001b[0m\u001b[1;33m.\u001b[0m\u001b[0mresize\u001b[0m\u001b[1;33m(\u001b[0m\u001b[0mimg\u001b[0m\u001b[1;33m,\u001b[0m\u001b[1;33m(\u001b[0m\u001b[0mwidth\u001b[0m\u001b[1;33m,\u001b[0m\u001b[0mheight\u001b[0m\u001b[1;33m)\u001b[0m \u001b[1;33m,\u001b[0m \u001b[0minterpolation\u001b[0m \u001b[1;33m=\u001b[0m \u001b[0mcv2\u001b[0m\u001b[1;33m.\u001b[0m\u001b[0mINTER_AREA\u001b[0m\u001b[1;33m)\u001b[0m\u001b[1;33m\u001b[0m\u001b[1;33m\u001b[0m\u001b[0m\n\u001b[0m\u001b[0;32m     14\u001b[0m     \u001b[0msize\u001b[0m \u001b[1;33m=\u001b[0m \u001b[1;33m(\u001b[0m\u001b[0mwidth\u001b[0m\u001b[1;33m,\u001b[0m\u001b[0mheight\u001b[0m\u001b[1;33m)\u001b[0m\u001b[1;33m\u001b[0m\u001b[1;33m\u001b[0m\u001b[0m\n\u001b[0;32m     15\u001b[0m     \u001b[0mimg_array\u001b[0m\u001b[1;33m.\u001b[0m\u001b[0mappend\u001b[0m\u001b[1;33m(\u001b[0m\u001b[0mresized\u001b[0m\u001b[1;33m)\u001b[0m\u001b[1;33m\u001b[0m\u001b[1;33m\u001b[0m\u001b[0m\n",
      "\u001b[1;31merror\u001b[0m: OpenCV(4.5.1) C:\\Users\\appveyor\\AppData\\Local\\Temp\\1\\pip-req-build-wvn_it83\\opencv\\modules\\imgproc\\src\\resize.cpp:4051: error: (-215:Assertion failed) !ssize.empty() in function 'cv::resize'\n"
     ]
    }
   ],
   "source": [
    "import cv2\n",
    "import numpy as np\n",
    "import glob\n",
    "\n",
    "img_array = []\n",
    "imgs = glob.glob(\"temp1/*.png\")\n",
    "path = \"temp1/\"\n",
    "for i in range(0,48):\n",
    "    input1 = path+str(i) +\".dot\" + \".png\"\n",
    "    img = cv2.imread(input1)\n",
    "    if (i==0): \n",
    "        height, width, layers = img.shape\n",
    "    resized = cv2.resize(img,(width,height) , interpolation = cv2.INTER_AREA)    \n",
    "    size = (width,height)\n",
    "    img_array.append(resized)\n",
    "out = cv2.VideoWriter('project.avi',cv2.VideoWriter_fourcc(*'DIVX'), 1, size)\n",
    "for i in range(len(img_array)):\n",
    "    out.write(img_array[i])\n",
    "out.release()"
   ]
  },
  {
   "cell_type": "code",
   "execution_count": null,
   "id": "5f01e740",
   "metadata": {},
   "outputs": [],
   "source": []
  }
 ],
 "metadata": {
  "kernelspec": {
   "display_name": "Python 3",
   "language": "python",
   "name": "python3"
  },
  "language_info": {
   "codemirror_mode": {
    "name": "ipython",
    "version": 3
   },
   "file_extension": ".py",
   "mimetype": "text/x-python",
   "name": "python",
   "nbconvert_exporter": "python",
   "pygments_lexer": "ipython3",
   "version": "3.9.2"
  }
 },
 "nbformat": 4,
 "nbformat_minor": 5
}
